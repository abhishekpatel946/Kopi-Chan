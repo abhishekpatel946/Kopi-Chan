{
 "cells": [
  {
   "cell_type": "code",
   "execution_count": 1,
   "metadata": {},
   "outputs": [],
   "source": [
    "from telegram.ext import Updater\n",
    "updater = Updater(token='908143577:AAEjKlF05FauSivmwYeQ1Hv1HHZRlLaNHsw', use_context=True)\n",
    "dispatcher = updater.dispatcher\n"
   ]
  },
  {
   "cell_type": "code",
   "execution_count": 2,
   "metadata": {},
   "outputs": [],
   "source": [
    "import logging\n",
    "logging.basicConfig(format='%(asctime)s - %(name)s - %(levelname)s - %(message)s', level=logging.INFO)"
   ]
  },
  {
   "cell_type": "code",
   "execution_count": 3,
   "metadata": {},
   "outputs": [],
   "source": [
    "def start(update, context):\n",
    "    context.bot.send_message(chat_id=update.message.chat_id, text=\"I'm Kopi Chan!!!\")"
   ]
  },
  {
   "cell_type": "code",
   "execution_count": 4,
   "metadata": {},
   "outputs": [
    {
     "data": {
      "text/plain": [
       "<queue.Queue at 0x7f5676008190>"
      ]
     },
     "execution_count": 4,
     "metadata": {},
     "output_type": "execute_result"
    }
   ],
   "source": [
    "from telegram.ext import CommandHandler\n",
    "start_handler = CommandHandler('start', start)\n",
    "dispatcher.add_handler(start_handler)\n",
    "updater.start_polling()"
   ]
  },
  {
   "cell_type": "code",
   "execution_count": 5,
   "metadata": {},
   "outputs": [],
   "source": [
    "def echo(update, context):\n",
    "    context.bot.send_message(chat_id=update.message.chat_id, text=update.message.text)\n",
    "\n",
    "from telegram.ext import MessageHandler, Filters\n",
    "echo_handler = MessageHandler(Filters.text, echo)\n",
    "dispatcher.add_handler(echo_handler)"
   ]
  },
  {
   "cell_type": "code",
   "execution_count": 6,
   "metadata": {},
   "outputs": [],
   "source": [
    "def caps(update, context):\n",
    "    text_caps = ' '.join(context.args).upper()\n",
    "    context.bot.send_message(chat_id=update.message.chat_id, text=text_caps)\n",
    "\n",
    "caps_handler = CommandHandler('caps', caps)\n",
    "dispatcher.add_handler(caps_handler)"
   ]
  },
  {
   "cell_type": "code",
   "execution_count": 7,
   "metadata": {},
   "outputs": [
    {
     "name": "stderr",
     "output_type": "stream",
     "text": [
      "2019-09-22 16:14:56,512 - telegram.ext.updater - ERROR - Error while getting Updates: Conflict: terminated by other getUpdates request; make sure that only one bot instance is running\n",
      "2019-09-22 16:14:56,523 - telegram.ext.dispatcher - ERROR - No error handlers are registered, logging exception.\n",
      "Traceback (most recent call last):\n",
      "  File \"/home/jakk/anaconda3/lib/python3.7/site-packages/telegram/ext/updater.py\", line 332, in _network_loop_retry\n",
      "    if not action_cb():\n",
      "  File \"/home/jakk/anaconda3/lib/python3.7/site-packages/telegram/ext/updater.py\", line 293, in polling_action_cb\n",
      "    allowed_updates=allowed_updates)\n",
      "  File \"/home/jakk/anaconda3/lib/python3.7/site-packages/telegram/bot.py\", line 66, in decorator\n",
      "    result = func(self, *args, **kwargs)\n",
      "  File \"/home/jakk/anaconda3/lib/python3.7/site-packages/telegram/bot.py\", line 1983, in get_updates\n",
      "    result = self._request.post(url, data, timeout=float(read_latency) + float(timeout))\n",
      "  File \"/home/jakk/anaconda3/lib/python3.7/site-packages/telegram/utils/request.py\", line 327, in post\n",
      "    **urlopen_kwargs)\n",
      "  File \"/home/jakk/anaconda3/lib/python3.7/site-packages/telegram/utils/request.py\", line 242, in _request_wrapper\n",
      "    raise Conflict(message)\n",
      "telegram.error.Conflict: Conflict: terminated by other getUpdates request; make sure that only one bot instance is running\n",
      "2019-09-22 16:15:02,055 - telegram.ext.updater - ERROR - Error while getting Updates: Conflict: terminated by other getUpdates request; make sure that only one bot instance is running\n",
      "2019-09-22 16:15:02,056 - telegram.ext.dispatcher - ERROR - No error handlers are registered, logging exception.\n",
      "Traceback (most recent call last):\n",
      "  File \"/home/jakk/anaconda3/lib/python3.7/site-packages/telegram/ext/updater.py\", line 332, in _network_loop_retry\n",
      "    if not action_cb():\n",
      "  File \"/home/jakk/anaconda3/lib/python3.7/site-packages/telegram/ext/updater.py\", line 293, in polling_action_cb\n",
      "    allowed_updates=allowed_updates)\n",
      "  File \"/home/jakk/anaconda3/lib/python3.7/site-packages/telegram/bot.py\", line 66, in decorator\n",
      "    result = func(self, *args, **kwargs)\n",
      "  File \"/home/jakk/anaconda3/lib/python3.7/site-packages/telegram/bot.py\", line 1983, in get_updates\n",
      "    result = self._request.post(url, data, timeout=float(read_latency) + float(timeout))\n",
      "  File \"/home/jakk/anaconda3/lib/python3.7/site-packages/telegram/utils/request.py\", line 327, in post\n",
      "    **urlopen_kwargs)\n",
      "  File \"/home/jakk/anaconda3/lib/python3.7/site-packages/telegram/utils/request.py\", line 242, in _request_wrapper\n",
      "    raise Conflict(message)\n",
      "telegram.error.Conflict: Conflict: terminated by other getUpdates request; make sure that only one bot instance is running\n",
      "2019-09-22 16:15:08,588 - telegram.ext.updater - ERROR - Error while getting Updates: Conflict: terminated by other getUpdates request; make sure that only one bot instance is running\n",
      "2019-09-22 16:15:08,589 - telegram.ext.dispatcher - ERROR - No error handlers are registered, logging exception.\n",
      "Traceback (most recent call last):\n",
      "  File \"/home/jakk/anaconda3/lib/python3.7/site-packages/telegram/ext/updater.py\", line 332, in _network_loop_retry\n",
      "    if not action_cb():\n",
      "  File \"/home/jakk/anaconda3/lib/python3.7/site-packages/telegram/ext/updater.py\", line 293, in polling_action_cb\n",
      "    allowed_updates=allowed_updates)\n",
      "  File \"/home/jakk/anaconda3/lib/python3.7/site-packages/telegram/bot.py\", line 66, in decorator\n",
      "    result = func(self, *args, **kwargs)\n",
      "  File \"/home/jakk/anaconda3/lib/python3.7/site-packages/telegram/bot.py\", line 1983, in get_updates\n",
      "    result = self._request.post(url, data, timeout=float(read_latency) + float(timeout))\n",
      "  File \"/home/jakk/anaconda3/lib/python3.7/site-packages/telegram/utils/request.py\", line 327, in post\n",
      "    **urlopen_kwargs)\n",
      "  File \"/home/jakk/anaconda3/lib/python3.7/site-packages/telegram/utils/request.py\", line 242, in _request_wrapper\n",
      "    raise Conflict(message)\n",
      "telegram.error.Conflict: Conflict: terminated by other getUpdates request; make sure that only one bot instance is running\n",
      "2019-09-22 16:15:15,371 - telegram.ext.updater - ERROR - Error while getting Updates: Conflict: terminated by other getUpdates request; make sure that only one bot instance is running\n",
      "2019-09-22 16:15:15,372 - telegram.ext.dispatcher - ERROR - No error handlers are registered, logging exception.\n",
      "Traceback (most recent call last):\n",
      "  File \"/home/jakk/anaconda3/lib/python3.7/site-packages/telegram/ext/updater.py\", line 332, in _network_loop_retry\n",
      "    if not action_cb():\n",
      "  File \"/home/jakk/anaconda3/lib/python3.7/site-packages/telegram/ext/updater.py\", line 293, in polling_action_cb\n",
      "    allowed_updates=allowed_updates)\n",
      "  File \"/home/jakk/anaconda3/lib/python3.7/site-packages/telegram/bot.py\", line 66, in decorator\n",
      "    result = func(self, *args, **kwargs)\n",
      "  File \"/home/jakk/anaconda3/lib/python3.7/site-packages/telegram/bot.py\", line 1983, in get_updates\n",
      "    result = self._request.post(url, data, timeout=float(read_latency) + float(timeout))\n",
      "  File \"/home/jakk/anaconda3/lib/python3.7/site-packages/telegram/utils/request.py\", line 327, in post\n",
      "    **urlopen_kwargs)\n",
      "  File \"/home/jakk/anaconda3/lib/python3.7/site-packages/telegram/utils/request.py\", line 242, in _request_wrapper\n",
      "    raise Conflict(message)\n",
      "telegram.error.Conflict: Conflict: terminated by other getUpdates request; make sure that only one bot instance is running\n",
      "2019-09-22 16:15:23,277 - telegram.ext.updater - ERROR - Error while getting Updates: Conflict: terminated by other getUpdates request; make sure that only one bot instance is running\n",
      "2019-09-22 16:15:23,278 - telegram.ext.dispatcher - ERROR - No error handlers are registered, logging exception.\n",
      "Traceback (most recent call last):\n",
      "  File \"/home/jakk/anaconda3/lib/python3.7/site-packages/telegram/ext/updater.py\", line 332, in _network_loop_retry\n",
      "    if not action_cb():\n",
      "  File \"/home/jakk/anaconda3/lib/python3.7/site-packages/telegram/ext/updater.py\", line 293, in polling_action_cb\n",
      "    allowed_updates=allowed_updates)\n",
      "  File \"/home/jakk/anaconda3/lib/python3.7/site-packages/telegram/bot.py\", line 66, in decorator\n",
      "    result = func(self, *args, **kwargs)\n",
      "  File \"/home/jakk/anaconda3/lib/python3.7/site-packages/telegram/bot.py\", line 1983, in get_updates\n",
      "    result = self._request.post(url, data, timeout=float(read_latency) + float(timeout))\n",
      "  File \"/home/jakk/anaconda3/lib/python3.7/site-packages/telegram/utils/request.py\", line 327, in post\n",
      "    **urlopen_kwargs)\n",
      "  File \"/home/jakk/anaconda3/lib/python3.7/site-packages/telegram/utils/request.py\", line 242, in _request_wrapper\n",
      "    raise Conflict(message)\n",
      "telegram.error.Conflict: Conflict: terminated by other getUpdates request; make sure that only one bot instance is running\n",
      "2019-09-22 16:15:33,374 - telegram.ext.updater - ERROR - Error while getting Updates: Conflict: terminated by other getUpdates request; make sure that only one bot instance is running\n",
      "2019-09-22 16:15:33,375 - telegram.ext.dispatcher - ERROR - No error handlers are registered, logging exception.\n",
      "Traceback (most recent call last):\n",
      "  File \"/home/jakk/anaconda3/lib/python3.7/site-packages/telegram/ext/updater.py\", line 332, in _network_loop_retry\n",
      "    if not action_cb():\n",
      "  File \"/home/jakk/anaconda3/lib/python3.7/site-packages/telegram/ext/updater.py\", line 293, in polling_action_cb\n",
      "    allowed_updates=allowed_updates)\n",
      "  File \"/home/jakk/anaconda3/lib/python3.7/site-packages/telegram/bot.py\", line 66, in decorator\n",
      "    result = func(self, *args, **kwargs)\n",
      "  File \"/home/jakk/anaconda3/lib/python3.7/site-packages/telegram/bot.py\", line 1983, in get_updates\n",
      "    result = self._request.post(url, data, timeout=float(read_latency) + float(timeout))\n",
      "  File \"/home/jakk/anaconda3/lib/python3.7/site-packages/telegram/utils/request.py\", line 327, in post\n",
      "    **urlopen_kwargs)\n",
      "  File \"/home/jakk/anaconda3/lib/python3.7/site-packages/telegram/utils/request.py\", line 242, in _request_wrapper\n",
      "    raise Conflict(message)\n",
      "telegram.error.Conflict: Conflict: terminated by other getUpdates request; make sure that only one bot instance is running\n",
      "2019-09-22 16:15:46,326 - telegram.ext.updater - ERROR - Error while getting Updates: Conflict: terminated by other getUpdates request; make sure that only one bot instance is running\n"
     ]
    },
    {
     "name": "stderr",
     "output_type": "stream",
     "text": [
      "2019-09-22 16:15:46,327 - telegram.ext.dispatcher - ERROR - No error handlers are registered, logging exception.\n",
      "Traceback (most recent call last):\n",
      "  File \"/home/jakk/anaconda3/lib/python3.7/site-packages/telegram/ext/updater.py\", line 332, in _network_loop_retry\n",
      "    if not action_cb():\n",
      "  File \"/home/jakk/anaconda3/lib/python3.7/site-packages/telegram/ext/updater.py\", line 293, in polling_action_cb\n",
      "    allowed_updates=allowed_updates)\n",
      "  File \"/home/jakk/anaconda3/lib/python3.7/site-packages/telegram/bot.py\", line 66, in decorator\n",
      "    result = func(self, *args, **kwargs)\n",
      "  File \"/home/jakk/anaconda3/lib/python3.7/site-packages/telegram/bot.py\", line 1983, in get_updates\n",
      "    result = self._request.post(url, data, timeout=float(read_latency) + float(timeout))\n",
      "  File \"/home/jakk/anaconda3/lib/python3.7/site-packages/telegram/utils/request.py\", line 327, in post\n",
      "    **urlopen_kwargs)\n",
      "  File \"/home/jakk/anaconda3/lib/python3.7/site-packages/telegram/utils/request.py\", line 242, in _request_wrapper\n",
      "    raise Conflict(message)\n",
      "telegram.error.Conflict: Conflict: terminated by other getUpdates request; make sure that only one bot instance is running\n",
      "2019-09-22 16:16:02,254 - telegram.ext.updater - ERROR - Error while getting Updates: Conflict: terminated by other getUpdates request; make sure that only one bot instance is running\n",
      "2019-09-22 16:16:02,255 - telegram.ext.dispatcher - ERROR - No error handlers are registered, logging exception.\n",
      "Traceback (most recent call last):\n",
      "  File \"/home/jakk/anaconda3/lib/python3.7/site-packages/telegram/ext/updater.py\", line 332, in _network_loop_retry\n",
      "    if not action_cb():\n",
      "  File \"/home/jakk/anaconda3/lib/python3.7/site-packages/telegram/ext/updater.py\", line 293, in polling_action_cb\n",
      "    allowed_updates=allowed_updates)\n",
      "  File \"/home/jakk/anaconda3/lib/python3.7/site-packages/telegram/bot.py\", line 66, in decorator\n",
      "    result = func(self, *args, **kwargs)\n",
      "  File \"/home/jakk/anaconda3/lib/python3.7/site-packages/telegram/bot.py\", line 1983, in get_updates\n",
      "    result = self._request.post(url, data, timeout=float(read_latency) + float(timeout))\n",
      "  File \"/home/jakk/anaconda3/lib/python3.7/site-packages/telegram/utils/request.py\", line 327, in post\n",
      "    **urlopen_kwargs)\n",
      "  File \"/home/jakk/anaconda3/lib/python3.7/site-packages/telegram/utils/request.py\", line 242, in _request_wrapper\n",
      "    raise Conflict(message)\n",
      "telegram.error.Conflict: Conflict: terminated by other getUpdates request; make sure that only one bot instance is running\n",
      "2019-09-22 16:16:19,781 - telegram.ext.updater - ERROR - Error while getting Updates: Conflict: terminated by other getUpdates request; make sure that only one bot instance is running\n",
      "2019-09-22 16:16:19,782 - telegram.ext.dispatcher - ERROR - No error handlers are registered, logging exception.\n",
      "Traceback (most recent call last):\n",
      "  File \"/home/jakk/anaconda3/lib/python3.7/site-packages/telegram/ext/updater.py\", line 332, in _network_loop_retry\n",
      "    if not action_cb():\n",
      "  File \"/home/jakk/anaconda3/lib/python3.7/site-packages/telegram/ext/updater.py\", line 293, in polling_action_cb\n",
      "    allowed_updates=allowed_updates)\n",
      "  File \"/home/jakk/anaconda3/lib/python3.7/site-packages/telegram/bot.py\", line 66, in decorator\n",
      "    result = func(self, *args, **kwargs)\n",
      "  File \"/home/jakk/anaconda3/lib/python3.7/site-packages/telegram/bot.py\", line 1983, in get_updates\n",
      "    result = self._request.post(url, data, timeout=float(read_latency) + float(timeout))\n",
      "  File \"/home/jakk/anaconda3/lib/python3.7/site-packages/telegram/utils/request.py\", line 327, in post\n",
      "    **urlopen_kwargs)\n",
      "  File \"/home/jakk/anaconda3/lib/python3.7/site-packages/telegram/utils/request.py\", line 242, in _request_wrapper\n",
      "    raise Conflict(message)\n",
      "telegram.error.Conflict: Conflict: terminated by other getUpdates request; make sure that only one bot instance is running\n",
      "2019-09-22 16:16:49,946 - telegram.ext.updater - ERROR - Error while getting Updates: Conflict: terminated by other getUpdates request; make sure that only one bot instance is running\n",
      "2019-09-22 16:16:49,948 - telegram.ext.dispatcher - ERROR - No error handlers are registered, logging exception.\n",
      "Traceback (most recent call last):\n",
      "  File \"/home/jakk/anaconda3/lib/python3.7/site-packages/telegram/ext/updater.py\", line 332, in _network_loop_retry\n",
      "    if not action_cb():\n",
      "  File \"/home/jakk/anaconda3/lib/python3.7/site-packages/telegram/ext/updater.py\", line 293, in polling_action_cb\n",
      "    allowed_updates=allowed_updates)\n",
      "  File \"/home/jakk/anaconda3/lib/python3.7/site-packages/telegram/bot.py\", line 66, in decorator\n",
      "    result = func(self, *args, **kwargs)\n",
      "  File \"/home/jakk/anaconda3/lib/python3.7/site-packages/telegram/bot.py\", line 1983, in get_updates\n",
      "    result = self._request.post(url, data, timeout=float(read_latency) + float(timeout))\n",
      "  File \"/home/jakk/anaconda3/lib/python3.7/site-packages/telegram/utils/request.py\", line 327, in post\n",
      "    **urlopen_kwargs)\n",
      "  File \"/home/jakk/anaconda3/lib/python3.7/site-packages/telegram/utils/request.py\", line 242, in _request_wrapper\n",
      "    raise Conflict(message)\n",
      "telegram.error.Conflict: Conflict: terminated by other getUpdates request; make sure that only one bot instance is running\n"
     ]
    }
   ],
   "source": [
    "def order(update, context):\n",
    "    context.bot.send_message(chat_id=update.message.chat_id, \n",
    "        text=\"Hi! Kopi Chan here to take your order!\\n \\nWhat's your name?\")\n",
    "\n",
    "order_handler = CommandHandler('order', order)\n",
    "dispatcher.add_handler(order_handler)"
   ]
  },
  {
   "cell_type": "code",
   "execution_count": null,
   "metadata": {},
   "outputs": [],
   "source": []
  }
 ],
 "metadata": {
  "kernelspec": {
   "display_name": "Python 3",
   "language": "python",
   "name": "python3"
  },
  "language_info": {
   "codemirror_mode": {
    "name": "ipython",
    "version": 3
   },
   "file_extension": ".py",
   "mimetype": "text/x-python",
   "name": "python",
   "nbconvert_exporter": "python",
   "pygments_lexer": "ipython3",
   "version": "3.7.4"
  }
 },
 "nbformat": 4,
 "nbformat_minor": 2
}
